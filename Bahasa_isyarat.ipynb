{
  "nbformat": 4,
  "nbformat_minor": 0,
  "metadata": {
    "colab": {
      "provenance": [],
      "authorship_tag": "ABX9TyPx+xzD6oGJaoLLjMDC7xs3",
      "include_colab_link": true
    },
    "kernelspec": {
      "name": "python3",
      "display_name": "Python 3"
    },
    "language_info": {
      "name": "python"
    }
  },
  "cells": [
    {
      "cell_type": "markdown",
      "metadata": {
        "id": "view-in-github",
        "colab_type": "text"
      },
      "source": [
        "<a href=\"https://colab.research.google.com/github/Zhakix/Zhakix/blob/main/Bahasa_isyarat.ipynb\" target=\"_parent\"><img src=\"https://colab.research.google.com/assets/colab-badge.svg\" alt=\"Open In Colab\"/></a>"
      ]
    },
    {
      "cell_type": "code",
      "source": [
        "# === Cell 1: Setup Lingkungan ===\n",
        "!pip install tensorflow keras matplotlib scikit-learn kaggle --quiet\n",
        "import tensorflow as tf\n",
        "from tensorflow import keras\n",
        "from tensorflow.keras import layers\n",
        "from tensorflow.keras.preprocessing.image import ImageDataGenerator\n",
        "import numpy as np\n",
        "import matplotlib.pyplot as plt\n",
        "import os\n",
        "from sklearn.metrics import classification_report, confusion_matrix\n",
        "import seaborn as sns"
      ],
      "metadata": {
        "id": "j37vKT55HJgH"
      },
      "execution_count": 1,
      "outputs": []
    },
    {
      "cell_type": "code",
      "source": [
        "# === Cell 2: Download Dataset dari Kaggle ===\n",
        "from google.colab import files\n",
        "files.upload()  # Upload kaggle.json dulu\n",
        "\n",
        "!mkdir -p ~/.kaggle\n",
        "!cp kaggle.json ~/.kaggle/\n",
        "!chmod 600 ~/.kaggle/kaggle.json\n",
        "\n",
        "# Contoh dataset bahasa isyarat (bisa kamu ganti sesuai dataset kamu)\n",
        "!kaggle datasets download -d datamunge/sign-language-mnist\n",
        "\n",
        "# Ekstrak dataset\n",
        "!unzip -q sign-language-mnist.zip -d dataset\n",
        "!ls dataset"
      ],
      "metadata": {
        "colab": {
          "base_uri": "https://localhost:8080/",
          "height": 212
        },
        "id": "cs8a2vLvHJjJ",
        "outputId": "3a935ea3-554e-409d-f1ba-e524a1cdd8fd"
      },
      "execution_count": 2,
      "outputs": [
        {
          "output_type": "display_data",
          "data": {
            "text/plain": [
              "<IPython.core.display.HTML object>"
            ],
            "text/html": [
              "\n",
              "     <input type=\"file\" id=\"files-e480079c-93f3-4c20-8a32-da62dbcdc505\" name=\"files[]\" multiple disabled\n",
              "        style=\"border:none\" />\n",
              "     <output id=\"result-e480079c-93f3-4c20-8a32-da62dbcdc505\">\n",
              "      Upload widget is only available when the cell has been executed in the\n",
              "      current browser session. Please rerun this cell to enable.\n",
              "      </output>\n",
              "      <script>// Copyright 2017 Google LLC\n",
              "//\n",
              "// Licensed under the Apache License, Version 2.0 (the \"License\");\n",
              "// you may not use this file except in compliance with the License.\n",
              "// You may obtain a copy of the License at\n",
              "//\n",
              "//      http://www.apache.org/licenses/LICENSE-2.0\n",
              "//\n",
              "// Unless required by applicable law or agreed to in writing, software\n",
              "// distributed under the License is distributed on an \"AS IS\" BASIS,\n",
              "// WITHOUT WARRANTIES OR CONDITIONS OF ANY KIND, either express or implied.\n",
              "// See the License for the specific language governing permissions and\n",
              "// limitations under the License.\n",
              "\n",
              "/**\n",
              " * @fileoverview Helpers for google.colab Python module.\n",
              " */\n",
              "(function(scope) {\n",
              "function span(text, styleAttributes = {}) {\n",
              "  const element = document.createElement('span');\n",
              "  element.textContent = text;\n",
              "  for (const key of Object.keys(styleAttributes)) {\n",
              "    element.style[key] = styleAttributes[key];\n",
              "  }\n",
              "  return element;\n",
              "}\n",
              "\n",
              "// Max number of bytes which will be uploaded at a time.\n",
              "const MAX_PAYLOAD_SIZE = 100 * 1024;\n",
              "\n",
              "function _uploadFiles(inputId, outputId) {\n",
              "  const steps = uploadFilesStep(inputId, outputId);\n",
              "  const outputElement = document.getElementById(outputId);\n",
              "  // Cache steps on the outputElement to make it available for the next call\n",
              "  // to uploadFilesContinue from Python.\n",
              "  outputElement.steps = steps;\n",
              "\n",
              "  return _uploadFilesContinue(outputId);\n",
              "}\n",
              "\n",
              "// This is roughly an async generator (not supported in the browser yet),\n",
              "// where there are multiple asynchronous steps and the Python side is going\n",
              "// to poll for completion of each step.\n",
              "// This uses a Promise to block the python side on completion of each step,\n",
              "// then passes the result of the previous step as the input to the next step.\n",
              "function _uploadFilesContinue(outputId) {\n",
              "  const outputElement = document.getElementById(outputId);\n",
              "  const steps = outputElement.steps;\n",
              "\n",
              "  const next = steps.next(outputElement.lastPromiseValue);\n",
              "  return Promise.resolve(next.value.promise).then((value) => {\n",
              "    // Cache the last promise value to make it available to the next\n",
              "    // step of the generator.\n",
              "    outputElement.lastPromiseValue = value;\n",
              "    return next.value.response;\n",
              "  });\n",
              "}\n",
              "\n",
              "/**\n",
              " * Generator function which is called between each async step of the upload\n",
              " * process.\n",
              " * @param {string} inputId Element ID of the input file picker element.\n",
              " * @param {string} outputId Element ID of the output display.\n",
              " * @return {!Iterable<!Object>} Iterable of next steps.\n",
              " */\n",
              "function* uploadFilesStep(inputId, outputId) {\n",
              "  const inputElement = document.getElementById(inputId);\n",
              "  inputElement.disabled = false;\n",
              "\n",
              "  const outputElement = document.getElementById(outputId);\n",
              "  outputElement.innerHTML = '';\n",
              "\n",
              "  const pickedPromise = new Promise((resolve) => {\n",
              "    inputElement.addEventListener('change', (e) => {\n",
              "      resolve(e.target.files);\n",
              "    });\n",
              "  });\n",
              "\n",
              "  const cancel = document.createElement('button');\n",
              "  inputElement.parentElement.appendChild(cancel);\n",
              "  cancel.textContent = 'Cancel upload';\n",
              "  const cancelPromise = new Promise((resolve) => {\n",
              "    cancel.onclick = () => {\n",
              "      resolve(null);\n",
              "    };\n",
              "  });\n",
              "\n",
              "  // Wait for the user to pick the files.\n",
              "  const files = yield {\n",
              "    promise: Promise.race([pickedPromise, cancelPromise]),\n",
              "    response: {\n",
              "      action: 'starting',\n",
              "    }\n",
              "  };\n",
              "\n",
              "  cancel.remove();\n",
              "\n",
              "  // Disable the input element since further picks are not allowed.\n",
              "  inputElement.disabled = true;\n",
              "\n",
              "  if (!files) {\n",
              "    return {\n",
              "      response: {\n",
              "        action: 'complete',\n",
              "      }\n",
              "    };\n",
              "  }\n",
              "\n",
              "  for (const file of files) {\n",
              "    const li = document.createElement('li');\n",
              "    li.append(span(file.name, {fontWeight: 'bold'}));\n",
              "    li.append(span(\n",
              "        `(${file.type || 'n/a'}) - ${file.size} bytes, ` +\n",
              "        `last modified: ${\n",
              "            file.lastModifiedDate ? file.lastModifiedDate.toLocaleDateString() :\n",
              "                                    'n/a'} - `));\n",
              "    const percent = span('0% done');\n",
              "    li.appendChild(percent);\n",
              "\n",
              "    outputElement.appendChild(li);\n",
              "\n",
              "    const fileDataPromise = new Promise((resolve) => {\n",
              "      const reader = new FileReader();\n",
              "      reader.onload = (e) => {\n",
              "        resolve(e.target.result);\n",
              "      };\n",
              "      reader.readAsArrayBuffer(file);\n",
              "    });\n",
              "    // Wait for the data to be ready.\n",
              "    let fileData = yield {\n",
              "      promise: fileDataPromise,\n",
              "      response: {\n",
              "        action: 'continue',\n",
              "      }\n",
              "    };\n",
              "\n",
              "    // Use a chunked sending to avoid message size limits. See b/62115660.\n",
              "    let position = 0;\n",
              "    do {\n",
              "      const length = Math.min(fileData.byteLength - position, MAX_PAYLOAD_SIZE);\n",
              "      const chunk = new Uint8Array(fileData, position, length);\n",
              "      position += length;\n",
              "\n",
              "      const base64 = btoa(String.fromCharCode.apply(null, chunk));\n",
              "      yield {\n",
              "        response: {\n",
              "          action: 'append',\n",
              "          file: file.name,\n",
              "          data: base64,\n",
              "        },\n",
              "      };\n",
              "\n",
              "      let percentDone = fileData.byteLength === 0 ?\n",
              "          100 :\n",
              "          Math.round((position / fileData.byteLength) * 100);\n",
              "      percent.textContent = `${percentDone}% done`;\n",
              "\n",
              "    } while (position < fileData.byteLength);\n",
              "  }\n",
              "\n",
              "  // All done.\n",
              "  yield {\n",
              "    response: {\n",
              "      action: 'complete',\n",
              "    }\n",
              "  };\n",
              "}\n",
              "\n",
              "scope.google = scope.google || {};\n",
              "scope.google.colab = scope.google.colab || {};\n",
              "scope.google.colab._files = {\n",
              "  _uploadFiles,\n",
              "  _uploadFilesContinue,\n",
              "};\n",
              "})(self);\n",
              "</script> "
            ]
          },
          "metadata": {}
        },
        {
          "output_type": "stream",
          "name": "stdout",
          "text": [
            "Saving kaggle.json to kaggle.json\n",
            "Dataset URL: https://www.kaggle.com/datasets/datamunge/sign-language-mnist\n",
            "License(s): CC0-1.0\n",
            "Downloading sign-language-mnist.zip to /content\n",
            "  0% 0.00/62.6M [00:00<?, ?B/s]\n",
            "100% 62.6M/62.6M [00:00<00:00, 1.66GB/s]\n",
            "american_sign_language.PNG  sign_mnist_test\t sign_mnist_train.csv\n",
            "amer_sign2.png\t\t    sign_mnist_test.csv\n",
            "amer_sign3.png\t\t    sign_mnist_train\n"
          ]
        }
      ]
    },
    {
      "cell_type": "code",
      "source": [
        "# === Cell 3: Load & Siapkan Data ===\n",
        "import pandas as pd\n",
        "\n",
        "train = pd.read_csv('dataset/sign_mnist_train.csv')\n",
        "test = pd.read_csv('dataset/sign_mnist_test.csv')\n",
        "\n",
        "y_train = train['label']\n",
        "y_test = test['label']\n",
        "X_train = train.drop('label', axis=1).values\n",
        "X_test = test.drop('label', axis=1).values\n",
        "\n",
        "# Ubah ke bentuk gambar 28x28\n",
        "X_train = X_train.reshape(-1, 28, 28, 1)\n",
        "X_test = X_test.reshape(-1, 28, 28, 1)\n",
        "\n",
        "# Normalisasi nilai piksel\n",
        "X_train = X_train / 255.0\n",
        "X_test = X_test / 255.0\n",
        "\n",
        "print(\"Ukuran data train:\", X_train.shape)\n",
        "print(\"Ukuran data test :\", X_test.shape)"
      ],
      "metadata": {
        "colab": {
          "base_uri": "https://localhost:8080/"
        },
        "id": "EBQ5rYWfHJmJ",
        "outputId": "2f73be45-4389-401f-ff5a-8963ba40043d"
      },
      "execution_count": 3,
      "outputs": [
        {
          "output_type": "stream",
          "name": "stdout",
          "text": [
            "Ukuran data train: (27455, 28, 28, 1)\n",
            "Ukuran data test : (7172, 28, 28, 1)\n"
          ]
        }
      ]
    },
    {
      "cell_type": "code",
      "source": [
        "# === Cell 4: Definisikan Augmentasi Citra ===\n",
        "train_datagen_no_aug = ImageDataGenerator()\n",
        "train_datagen_aug = ImageDataGenerator(\n",
        "    rotation_range=20,\n",
        "    zoom_range=0.2,\n",
        "    shear_range=0.2,\n",
        "    width_shift_range=0.1,\n",
        "    height_shift_range=0.1\n",
        ")\n",
        "\n",
        "# Simulasi data augmentasi\n",
        "augmented_example = train_datagen_aug.flow(X_train, y_train, batch_size=9)\n",
        "images, labels = next(augmented_example)\n",
        "\n",
        "plt.figure(figsize=(6,6))\n",
        "for i in range(9):\n",
        "    plt.subplot(3,3,i+1)\n",
        "    plt.imshow(images[i].reshape(28,28), cmap='gray')\n",
        "    plt.axis('off')\n",
        "plt.show()"
      ],
      "metadata": {
        "colab": {
          "base_uri": "https://localhost:8080/",
          "height": 499
        },
        "id": "v4rSHix3HJpu",
        "outputId": "d17b80f6-c65c-4900-e57b-d84476b484d0"
      },
      "execution_count": 4,
      "outputs": [
        {
          "output_type": "display_data",
          "data": {
            "text/plain": [
              "<Figure size 600x600 with 9 Axes>"
            ],
            "image/png": "[encoded data removed]"
          },
          "metadata": {}
        }
      ]
    },
    {
      "cell_type": "code",
      "source": [
        "# === Cell 5: Definisi Arsitektur CNN ===\n",
        "def build_cnn_model():\n",
        "    model = keras.Sequential([\n",
        "        layers.Conv2D(32, (3,3), activation='relu', input_shape=(28,28,1)),\n",
        "        layers.MaxPooling2D(2,2),\n",
        "        layers.Conv2D(64, (3,3), activation='relu'),\n",
        "        layers.MaxPooling2D(2,2),\n",
        "        layers.Flatten(),\n",
        "        layers.Dense(128, activation='relu'),\n",
        "        layers.Dropout(0.4),\n",
        "        layers.Dense(25, activation='softmax')\n",
        "    ])\n",
        "    model.compile(optimizer='adam', loss='sparse_categorical_crossentropy', metrics=['accuracy'])\n",
        "    return model"
      ],
      "metadata": {
        "id": "iqe1QAN-HJ5D"
      },
      "execution_count": 5,
      "outputs": []
    },
    {
      "cell_type": "code",
      "source": [
        "# === Cell 6: Training Model Tanpa Augmentasi ===\n",
        "model_no_aug = build_cnn_model()\n",
        "\n",
        "history_no_aug = model_no_aug.fit(\n",
        "    X_train, y_train,\n",
        "    validation_data=(X_test, y_test),\n",
        "    epochs=15,\n",
        "    batch_size=64,\n",
        "    verbose=1\n",
        ")"
      ],
      "metadata": {
        "colab": {
          "base_uri": "https://localhost:8080/"
        },
        "id": "AnXRWviGHJ9u",
        "outputId": "59679fef-407a-4822-ee2d-ec9cbe05c0d8"
      },
      "execution_count": 6,
      "outputs": [
        {
          "output_type": "stream",
          "name": "stderr",
          "text": [
            "/usr/local/lib/python3.12/dist-packages/keras/src/layers/convolutional/base_conv.py:113: UserWarning: Do not pass an `input_shape`/`input_dim` argument to a layer. When using Sequential models, prefer using an `Input(shape)` object as the first layer in the model instead.\n",
            "  super().__init__(activity_regularizer=activity_regularizer, **kwargs)\n"
          ]
        },
        {
          "output_type": "stream",
          "name": "stdout",
          "text": [
            "Epoch 1/15\n",
            "\u001b[1m429/429\u001b[0m \u001b[32m━━━━━━━━━━━━━━━━━━━━\u001b[0m\u001b[37m\u001b[0m \u001b[1m29s\u001b[0m 62ms/step - accuracy: 0.3044 - loss: 2.3196 - val_accuracy: 0.8147 - val_loss: 0.6065\n",
            "Epoch 2/15\n",
            "\u001b[1m429/429\u001b[0m \u001b[32m━━━━━━━━━━━━━━━━━━━━\u001b[0m\u001b[37m\u001b[0m \u001b[1m41s\u001b[0m 63ms/step - accuracy: 0.8299 - loss: 0.5205 - val_accuracy: 0.8887 - val_loss: 0.3387\n",
            "Epoch 3/15\n",
            "\u001b[1m429/429\u001b[0m \u001b[32m━━━━━━━━━━━━━━━━━━━━\u001b[0m\u001b[37m\u001b[0m \u001b[1m42s\u001b[0m 65ms/step - accuracy: 0.9276 - loss: 0.2306 - val_accuracy: 0.8947 - val_loss: 0.2834\n",
            "Epoch 4/15\n",
            "\u001b[1m429/429\u001b[0m \u001b[32m━━━━━━━━━━━━━━━━━━━━\u001b[0m\u001b[37m\u001b[0m \u001b[1m27s\u001b[0m 63ms/step - accuracy: 0.9591 - loss: 0.1315 - val_accuracy: 0.9099 - val_loss: 0.2973\n",
            "Epoch 5/15\n",
            "\u001b[1m429/429\u001b[0m \u001b[32m━━━━━━━━━━━━━━━━━━━━\u001b[0m\u001b[37m\u001b[0m \u001b[1m27s\u001b[0m 63ms/step - accuracy: 0.9721 - loss: 0.0883 - val_accuracy: 0.9102 - val_loss: 0.2517\n",
            "Epoch 6/15\n",
            "\u001b[1m429/429\u001b[0m \u001b[32m━━━━━━━━━━━━━━━━━━━━\u001b[0m\u001b[37m\u001b[0m \u001b[1m28s\u001b[0m 64ms/step - accuracy: 0.9781 - loss: 0.0688 - val_accuracy: 0.9293 - val_loss: 0.2245\n",
            "Epoch 7/15\n",
            "\u001b[1m429/429\u001b[0m \u001b[32m━━━━━━━━━━━━━━━━━━━━\u001b[0m\u001b[37m\u001b[0m \u001b[1m27s\u001b[0m 63ms/step - accuracy: 0.9810 - loss: 0.0608 - val_accuracy: 0.9172 - val_loss: 0.2450\n",
            "Epoch 8/15\n",
            "\u001b[1m429/429\u001b[0m \u001b[32m━━━━━━━━━━━━━━━━━━━━\u001b[0m\u001b[37m\u001b[0m \u001b[1m43s\u001b[0m 67ms/step - accuracy: 0.9847 - loss: 0.0489 - val_accuracy: 0.9176 - val_loss: 0.2623\n",
            "Epoch 9/15\n",
            "\u001b[1m429/429\u001b[0m \u001b[32m━━━━━━━━━━━━━━━━━━━━\u001b[0m\u001b[37m\u001b[0m \u001b[1m27s\u001b[0m 63ms/step - accuracy: 0.9863 - loss: 0.0407 - val_accuracy: 0.9387 - val_loss: 0.2102\n",
            "Epoch 10/15\n",
            "\u001b[1m429/429\u001b[0m \u001b[32m━━━━━━━━━━━━━━━━━━━━\u001b[0m\u001b[37m\u001b[0m \u001b[1m42s\u001b[0m 66ms/step - accuracy: 0.9886 - loss: 0.0336 - val_accuracy: 0.9360 - val_loss: 0.2577\n",
            "Epoch 11/15\n",
            "\u001b[1m429/429\u001b[0m \u001b[32m━━━━━━━━━━━━━━━━━━━━\u001b[0m\u001b[37m\u001b[0m \u001b[1m40s\u001b[0m 64ms/step - accuracy: 0.9885 - loss: 0.0345 - val_accuracy: 0.9354 - val_loss: 0.2778\n",
            "Epoch 12/15\n",
            "\u001b[1m429/429\u001b[0m \u001b[32m━━━━━━━━━━━━━━━━━━━━\u001b[0m\u001b[37m\u001b[0m \u001b[1m41s\u001b[0m 64ms/step - accuracy: 0.9879 - loss: 0.0346 - val_accuracy: 0.9367 - val_loss: 0.2362\n",
            "Epoch 13/15\n",
            "\u001b[1m429/429\u001b[0m \u001b[32m━━━━━━━━━━━━━━━━━━━━\u001b[0m\u001b[37m\u001b[0m \u001b[1m27s\u001b[0m 64ms/step - accuracy: 0.9901 - loss: 0.0287 - val_accuracy: 0.9403 - val_loss: 0.2708\n",
            "Epoch 14/15\n",
            "\u001b[1m429/429\u001b[0m \u001b[32m━━━━━━━━━━━━━━━━━━━━\u001b[0m\u001b[37m\u001b[0m \u001b[1m41s\u001b[0m 64ms/step - accuracy: 0.9914 - loss: 0.0262 - val_accuracy: 0.9308 - val_loss: 0.3026\n",
            "Epoch 15/15\n",
            "\u001b[1m429/429\u001b[0m \u001b[32m━━━━━━━━━━━━━━━━━━━━\u001b[0m\u001b[37m\u001b[0m \u001b[1m27s\u001b[0m 63ms/step - accuracy: 0.9922 - loss: 0.0217 - val_accuracy: 0.9458 - val_loss: 0.2698\n"
          ]
        }
      ]
    },
    {
      "cell_type": "code",
      "source": [
        "# === Cell 7: Training Model Dengan Augmentasi ===\n",
        "model_aug = build_cnn_model()\n",
        "\n",
        "history_aug = model_aug.fit(\n",
        "    train_datagen_aug.flow(X_train, y_train, batch_size=64),\n",
        "    validation_data=(X_test, y_test),\n",
        "    epochs=15,\n",
        "    verbose=1\n",
        ")"
      ],
      "metadata": {
        "colab": {
          "base_uri": "https://localhost:8080/"
        },
        "id": "e8d_WxY-HKB3",
        "outputId": "67af7ea8-5d93-47a9-c785-61b9fea45b9d"
      },
      "execution_count": 7,
      "outputs": [
        {
          "output_type": "stream",
          "name": "stdout",
          "text": [
            "Epoch 1/15\n"
          ]
        },
        {
          "output_type": "stream",
          "name": "stderr",
          "text": [
            "/usr/local/lib/python3.12/dist-packages/keras/src/trainers/data_adapters/py_dataset_adapter.py:121: UserWarning: Your `PyDataset` class should call `super().__init__(**kwargs)` in its constructor. `**kwargs` can include `workers`, `use_multiprocessing`, `max_queue_size`. Do not pass these arguments to `fit()`, as they will be ignored.\n",
            "  self._warn_if_super_not_called()\n"
          ]
        },
        {
          "output_type": "stream",
          "name": "stdout",
          "text": [
            "\u001b[1m429/429\u001b[0m \u001b[32m━━━━━━━━━━━━━━━━━━━━\u001b[0m\u001b[37m\u001b[0m \u001b[1m38s\u001b[0m 85ms/step - accuracy: 0.1483 - loss: 2.8594 - val_accuracy: 0.6705 - val_loss: 1.1220\n",
            "Epoch 2/15\n",
            "\u001b[1m429/429\u001b[0m \u001b[32m━━━━━━━━━━━━━━━━━━━━\u001b[0m\u001b[37m\u001b[0m \u001b[1m37s\u001b[0m 86ms/step - accuracy: 0.4804 - loss: 1.6008 - val_accuracy: 0.8162 - val_loss: 0.6721\n",
            "Epoch 3/15\n",
            "\u001b[1m429/429\u001b[0m \u001b[32m━━━━━━━━━━━━━━━━━━━━\u001b[0m\u001b[37m\u001b[0m \u001b[1m35s\u001b[0m 82ms/step - accuracy: 0.5910 - loss: 1.1979 - val_accuracy: 0.8408 - val_loss: 0.4799\n",
            "Epoch 4/15\n",
            "\u001b[1m429/429\u001b[0m \u001b[32m━━━━━━━━━━━━━━━━━━━━\u001b[0m\u001b[37m\u001b[0m \u001b[1m37s\u001b[0m 87ms/step - accuracy: 0.6634 - loss: 0.9978 - val_accuracy: 0.8713 - val_loss: 0.3810\n",
            "Epoch 5/15\n",
            "\u001b[1m429/429\u001b[0m \u001b[32m━━━━━━━━━━━━━━━━━━━━\u001b[0m\u001b[37m\u001b[0m \u001b[1m40s\u001b[0m 93ms/step - accuracy: 0.7001 - loss: 0.8731 - val_accuracy: 0.9141 - val_loss: 0.3143\n",
            "Epoch 6/15\n",
            "\u001b[1m429/429\u001b[0m \u001b[32m━━━━━━━━━━━━━━━━━━━━\u001b[0m\u001b[37m\u001b[0m \u001b[1m37s\u001b[0m 83ms/step - accuracy: 0.7332 - loss: 0.7744 - val_accuracy: 0.9329 - val_loss: 0.2648\n",
            "Epoch 7/15\n",
            "\u001b[1m429/429\u001b[0m \u001b[32m━━━━━━━━━━━━━━━━━━━━\u001b[0m\u001b[37m\u001b[0m \u001b[1m37s\u001b[0m 85ms/step - accuracy: 0.7548 - loss: 0.7041 - val_accuracy: 0.9201 - val_loss: 0.2282\n",
            "Epoch 8/15\n",
            "\u001b[1m429/429\u001b[0m \u001b[32m━━━━━━━━━━━━━━━━━━━━\u001b[0m\u001b[37m\u001b[0m \u001b[1m35s\u001b[0m 81ms/step - accuracy: 0.7737 - loss: 0.6533 - val_accuracy: 0.9430 - val_loss: 0.2079\n",
            "Epoch 9/15\n",
            "\u001b[1m429/429\u001b[0m \u001b[32m━━━━━━━━━━━━━━━━━━━━\u001b[0m\u001b[37m\u001b[0m \u001b[1m37s\u001b[0m 85ms/step - accuracy: 0.7876 - loss: 0.6118 - val_accuracy: 0.9497 - val_loss: 0.1687\n",
            "Epoch 10/15\n",
            "\u001b[1m429/429\u001b[0m \u001b[32m━━━━━━━━━━━━━━━━━━━━\u001b[0m\u001b[37m\u001b[0m \u001b[1m35s\u001b[0m 82ms/step - accuracy: 0.8063 - loss: 0.5543 - val_accuracy: 0.9690 - val_loss: 0.1369\n",
            "Epoch 11/15\n",
            "\u001b[1m429/429\u001b[0m \u001b[32m━━━━━━━━━━━━━━━━━━━━\u001b[0m\u001b[37m\u001b[0m \u001b[1m37s\u001b[0m 86ms/step - accuracy: 0.8198 - loss: 0.5196 - val_accuracy: 0.9730 - val_loss: 0.1174\n",
            "Epoch 12/15\n",
            "\u001b[1m429/429\u001b[0m \u001b[32m━━━━━━━━━━━━━━━━━━━━\u001b[0m\u001b[37m\u001b[0m \u001b[1m36s\u001b[0m 85ms/step - accuracy: 0.8377 - loss: 0.4798 - val_accuracy: 0.9707 - val_loss: 0.1249\n",
            "Epoch 13/15\n",
            "\u001b[1m429/429\u001b[0m \u001b[32m━━━━━━━━━━━━━━━━━━━━\u001b[0m\u001b[37m\u001b[0m \u001b[1m36s\u001b[0m 83ms/step - accuracy: 0.8384 - loss: 0.4574 - val_accuracy: 0.9851 - val_loss: 0.0797\n",
            "Epoch 14/15\n",
            "\u001b[1m429/429\u001b[0m \u001b[32m━━━━━━━━━━━━━━━━━━━━\u001b[0m\u001b[37m\u001b[0m \u001b[1m38s\u001b[0m 89ms/step - accuracy: 0.8444 - loss: 0.4491 - val_accuracy: 0.9847 - val_loss: 0.0697\n",
            "Epoch 15/15\n",
            "\u001b[1m429/429\u001b[0m \u001b[32m━━━━━━━━━━━━━━━━━━━━\u001b[0m\u001b[37m\u001b[0m \u001b[1m36s\u001b[0m 85ms/step - accuracy: 0.8561 - loss: 0.4134 - val_accuracy: 0.9876 - val_loss: 0.0587\n"
          ]
        }
      ]
    },
    {
      "cell_type": "code",
      "source": [
        "# === Cell 8: Evaluasi Model ===\n",
        "plt.figure(figsize=(10,5))\n",
        "plt.plot(history_no_aug.history['val_accuracy'], label='Tanpa Augmentasi')\n",
        "plt.plot(history_aug.history['val_accuracy'], label='Dengan Augmentasi')\n",
        "plt.title('Perbandingan Akurasi Validasi')\n",
        "plt.xlabel('Epoch')\n",
        "plt.ylabel('Akurasi')\n",
        "plt.legend()\n",
        "plt.show()\n",
        "\n",
        "acc_no_aug = model_no_aug.evaluate(X_test, y_test, verbose=0)[1]\n",
        "acc_aug = model_aug.evaluate(X_test, y_test, verbose=0)[1]\n",
        "print(f\"Akurasi tanpa augmentasi: {acc_no_aug*100:.2f}%\")\n",
        "print(f\"Akurasi dengan augmentasi: {acc_aug*100:.2f}%\")"
      ],
      "metadata": {
        "colab": {
          "base_uri": "https://localhost:8080/",
          "height": 522
        },
        "id": "VK4jPRkqHKHR",
        "outputId": "72349f0a-6471-4407-80ad-a6446ac2f5a0"
      },
      "execution_count": 8,
      "outputs": [
        {
          "output_type": "display_data",
          "data": {
            "text/plain": [
              "<Figure size 1000x500 with 1 Axes>"
            ],
            "image/png": "[encoded data removed]"
          },
          "metadata": {}
        },
        {
          "output_type": "stream",
          "name": "stdout",
          "text": [
            "Akurasi tanpa augmentasi: 94.58%\n",
            "Akurasi dengan augmentasi: 98.76%\n"
          ]
        }
      ]
    },
    {
      "cell_type": "code",
      "source": [
        "# === Cell 9: Confusion Matrix & Laporan ===\n",
        "y_pred_aug = np.argmax(model_aug.predict(X_test), axis=1)\n",
        "cm = confusion_matrix(y_test, y_pred_aug)\n",
        "\n",
        "plt.figure(figsize=(10,8))\n",
        "sns.heatmap(cm, annot=False, cmap='Blues')\n",
        "plt.title('Confusion Matrix (Model dengan Augmentasi)')\n",
        "plt.xlabel('Prediksi')\n",
        "plt.ylabel('Aktual')\n",
        "plt.show()\n",
        "\n",
        "print(classification_report(y_test, y_pred_aug))"
      ],
      "metadata": {
        "colab": {
          "base_uri": "https://localhost:8080/",
          "height": 1000
        },
        "id": "qJvSVrbAHKL6",
        "outputId": "fba354b9-db84-4e7a-bbda-c706a20c9af6"
      },
      "execution_count": 9,
      "outputs": [
        {
          "output_type": "stream",
          "name": "stdout",
          "text": [
            "\u001b[1m225/225\u001b[0m \u001b[32m━━━━━━━━━━━━━━━━━━━━\u001b[0m\u001b[37m\u001b[0m \u001b[1m2s\u001b[0m 9ms/step\n"
          ]
        },
        {
          "output_type": "display_data",
          "data": {
            "text/plain": [
              "<Figure size 1000x800 with 2 Axes>"
            ],
            "image/png": "[encoded data removed]"
          },
          "metadata": {}
        },
        {
          "output_type": "stream",
          "name": "stdout",
          "text": [
            "              precision    recall  f1-score   support\n",
            "\n",
            "           0       1.00      1.00      1.00       331\n",
            "           1       1.00      0.97      0.98       432\n",
            "           2       1.00      1.00      1.00       310\n",
            "           3       1.00      1.00      1.00       245\n",
            "           4       0.93      1.00      0.97       498\n",
            "           5       1.00      1.00      1.00       247\n",
            "           6       1.00      0.94      0.97       348\n",
            "           7       0.98      1.00      0.99       436\n",
            "           8       1.00      1.00      1.00       288\n",
            "          10       1.00      1.00      1.00       331\n",
            "          11       1.00      1.00      1.00       209\n",
            "          12       0.99      1.00      1.00       394\n",
            "          13       1.00      0.99      1.00       291\n",
            "          14       1.00      1.00      1.00       246\n",
            "          15       1.00      1.00      1.00       347\n",
            "          16       1.00      1.00      1.00       164\n",
            "          17       1.00      0.92      0.96       144\n",
            "          18       1.00      0.86      0.92       246\n",
            "          19       0.95      0.99      0.97       248\n",
            "          20       0.95      1.00      0.98       266\n",
            "          21       1.00      1.00      1.00       346\n",
            "          22       0.93      1.00      0.96       206\n",
            "          23       1.00      1.00      1.00       267\n",
            "          24       1.00      1.00      1.00       332\n",
            "\n",
            "    accuracy                           0.99      7172\n",
            "   macro avg       0.99      0.99      0.99      7172\n",
            "weighted avg       0.99      0.99      0.99      7172\n",
            "\n"
          ]
        }
      ]
    },
    {
      "cell_type": "code",
      "source": [
        "# === Cell 10: Simpan Model Terbaik ===\n",
        "model_aug.save('model_sign_language_best.h5')\n",
        "print(\"Model berhasil disimpan ✅\")"
      ],
      "metadata": {
        "colab": {
          "base_uri": "https://localhost:8080/"
        },
        "id": "lPOpWOYVHKQq",
        "outputId": "31cea178-5ed1-469c-c1a8-252010878661"
      },
      "execution_count": 10,
      "outputs": [
        {
          "output_type": "stream",
          "name": "stderr",
          "text": [
            "WARNING:absl:You are saving your model as an HDF5 file via `model.save()` or `keras.saving.save_model(model)`. This file format is considered legacy. We recommend using instead the native Keras format, e.g. `model.save('my_model.keras')` or `keras.saving.save_model(model, 'my_model.keras')`. \n"
          ]
        },
        {
          "output_type": "stream",
          "name": "stdout",
          "text": [
            "Model berhasil disimpan ✅\n"
          ]
        }
      ]
    },
    {
      "cell_type": "code",
      "source": [
        "# === Cell 11: Konversi ke TFLite ===\n",
        "converter = tf.lite.TFLiteConverter.from_keras_model(model_aug)\n",
        "tflite_model = converter.convert()\n",
        "open(\"model_sign_language_best.tflite\", \"wb\").write(tflite_model)\n",
        "print(\"Model TFLite berhasil dibuat ✅\")"
      ],
      "metadata": {
        "colab": {
          "base_uri": "https://localhost:8080/"
        },
        "id": "L33kzLscHKVv",
        "outputId": "e8d33cf7-2998-425d-d21f-23487243f25c"
      },
      "execution_count": 11,
      "outputs": [
        {
          "output_type": "stream",
          "name": "stdout",
          "text": [
            "Saved artifact at '/tmp/tmp9a0189pt'. The following endpoints are available:\n",
            "\n",
            "* Endpoint 'serve'\n",
            "  args_0 (POSITIONAL_ONLY): TensorSpec(shape=(None, 28, 28, 1), dtype=tf.float32, name='keras_tensor_9')\n",
            "Output Type:\n",
            "  TensorSpec(shape=(None, 25), dtype=tf.float32, name=None)\n",
            "Captures:\n",
            "  134486873891344: TensorSpec(shape=(), dtype=tf.resource, name=None)\n",
            "  134486873890768: TensorSpec(shape=(), dtype=tf.resource, name=None)\n",
            "  134486873886352: TensorSpec(shape=(), dtype=tf.resource, name=None)\n",
            "  134486873888080: TensorSpec(shape=(), dtype=tf.resource, name=None)\n",
            "  134486873883088: TensorSpec(shape=(), dtype=tf.resource, name=None)\n",
            "  134486873887312: TensorSpec(shape=(), dtype=tf.resource, name=None)\n",
            "  134486873889808: TensorSpec(shape=(), dtype=tf.resource, name=None)\n",
            "  134486873890384: TensorSpec(shape=(), dtype=tf.resource, name=None)\n",
            "Model TFLite berhasil dibuat ✅\n"
          ]
        }
      ]
    },
    {
      "cell_type": "code",
      "source": [
        "# Simpan label (huruf A-Z, tanpa J dan Z)\n",
        "labels = [chr(i) for i in range(65, 91) if i not in [74, 90]]\n",
        "with open(\"labels.txt\", \"w\") as f:\n",
        "    for label in labels:\n",
        "        f.write(label + \"\\n\")"
      ],
      "metadata": {
        "id": "5RMz9oGNRZym"
      },
      "execution_count": 12,
      "outputs": []
    }
  ]
}